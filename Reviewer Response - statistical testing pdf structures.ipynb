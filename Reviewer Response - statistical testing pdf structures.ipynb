{
 "cells": [
  {
   "cell_type": "code",
   "execution_count": null,
   "id": "bf79fd73",
   "metadata": {},
   "outputs": [],
   "source": [
    "import numpy as np\n",
    "import pandas as pd\n",
    "import mdtraj\n",
    "import pickle\n",
    "import matplotlib.pyplot as plt\n",
    "import os\n",
    "import scipy.stats as ss\n",
    "import random\n",
    "from collections import Counter\n",
    "import seaborn as sns\n",
    "from statsmodels.stats import weightstats\n",
    "\n",
    "plt.style.use('seaborn')"
   ]
  },
  {
   "cell_type": "code",
   "execution_count": null,
   "id": "706e186b",
   "metadata": {},
   "outputs": [],
   "source": [
    "def save_obj(obj, name ):\n",
    "    with open('/Users/h.xia/Desktop/Griffith_Lab/R_shiny_visualization/anchor_analysis/obj/'+ name + '.pkl', 'wb') as f:\n",
    "        pickle.dump(obj, f, pickle.HIGHEST_PROTOCOL)\n",
    "\n",
    "def load_obj(name ):\n",
    "    with open('/Users/h.xia/Desktop/Griffith_Lab/R_shiny_visualization/anchor_analysis/obj/' + name + '.pkl', 'rb') as f:\n",
    "        return pickle.load(f)"
   ]
  },
  {
   "cell_type": "code",
   "execution_count": null,
   "id": "64c3e2f1",
   "metadata": {},
   "outputs": [],
   "source": [
    "random_subset = load_obj('random_subset_pMHC_crystallography_analysis_2')\n",
    "sample_data_with_binding = load_obj('pMHC_v2_validation_sample_data_with_binding')"
   ]
  },
  {
   "cell_type": "code",
   "execution_count": null,
   "id": "6a45e149",
   "metadata": {},
   "outputs": [],
   "source": [
    "sample_data_with_binding_subset = sample_data_with_binding.iloc[random_subset]"
   ]
  },
  {
   "cell_type": "code",
   "execution_count": null,
   "id": "ef94b9ca",
   "metadata": {},
   "outputs": [],
   "source": [
    "print(ss.ttest_ind(sample_data_with_binding_subset['Distance'], sample_data_with_binding_subset['Random Distance'], equal_var=False))\n",
    "print(ss.ttest_ind(sample_data_with_binding_subset['SASA'], sample_data_with_binding_subset['Random SASA'], equal_var=False))"
   ]
  },
  {
   "cell_type": "code",
   "execution_count": null,
   "id": "27956ec2",
   "metadata": {},
   "outputs": [],
   "source": [
    "print(ss.ttest_ind(sample_data_with_binding['Distance'], sample_data_with_binding['Random Distance'], equal_var=False))\n",
    "print(ss.ttest_ind(sample_data_with_binding['SASA'], sample_data_with_binding['Random SASA'], equal_var=False))"
   ]
  },
  {
   "cell_type": "code",
   "execution_count": null,
   "id": "bdaaea60",
   "metadata": {},
   "outputs": [],
   "source": [
    "## Testing for normal distribution\n",
    "ss.shapiro(sample_data_with_binding_subset['Distance'] - sample_data_with_binding_subset['Random Distance'])"
   ]
  },
  {
   "cell_type": "code",
   "execution_count": null,
   "id": "284ce00f",
   "metadata": {},
   "outputs": [],
   "source": [
    "## Testing for equal variance\n",
    "ss.levene(sample_data_with_binding_subset['Distance'],\n",
    "             sample_data_with_binding_subset['Random Distance'],\n",
    "             center= 'mean')"
   ]
  },
  {
   "cell_type": "markdown",
   "id": "8270d9fc",
   "metadata": {},
   "source": [
    "## Repeat the shuffling test"
   ]
  },
  {
   "cell_type": "code",
   "execution_count": null,
   "id": "1adfaf09",
   "metadata": {},
   "outputs": [],
   "source": [
    "binding_data = pd.read_csv(\"./validation_analysis_pvacbind_output_combined.txt\", delimiter='\\t')\n",
    "sample_data = pd.read_csv(\"pdb_files/cleaned_list_pdb_structures.tsv\", delimiter='\\t', header=None)"
   ]
  },
  {
   "cell_type": "code",
   "execution_count": null,
   "id": "15470f70",
   "metadata": {},
   "outputs": [],
   "source": [
    "SASA_results = load_obj('SASA_results_validation_overall_new')\n",
    "Distance_with_percentile_results = load_obj('Distance_with_percentile_results_validation_overall_new')\n",
    "all_anchor_overall_pos_score_dict = load_obj('all_anchor_overall_pos_score_dict_r4')"
   ]
  },
  {
   "cell_type": "code",
   "execution_count": null,
   "id": "486597b3",
   "metadata": {},
   "outputs": [],
   "source": [
    "for k in range(0,5):\n",
    "    randomized_SASA = []\n",
    "    randomized_Distance = []\n",
    "    for n, i in sample_data_with_binding.iterrows():\n",
    "        sasa_calculation = SASA_results[i['PDB_ID']]\n",
    "        distance_calculation = Distance_with_percentile_results[i['PDB_ID']]\n",
    "        prediction_calculation = all_anchor_overall_pos_score_dict[\"HLA-\"+i['HLA Allele']][len(i['Peptide'])]\n",
    "        random.shuffle(sasa_calculation)\n",
    "        random.shuffle(distance_calculation)\n",
    "        ran_corr1, ran_p1 = ss.spearmanr(sasa_calculation, prediction_calculation)\n",
    "        ran_corr2, ran_p2 = ss.spearmanr(distance_calculation, prediction_calculation)\n",
    "        randomized_SASA.append(ran_corr1)\n",
    "        randomized_Distance.append(ran_corr2)\n",
    "    \n",
    "    col_name_sasa = 'Random SASA Round ' + str(k+1)\n",
    "    col_name_distance = 'Random Distance Round ' + str(k+1)\n",
    "    sample_data_with_binding[col_name_sasa] = randomized_SASA\n",
    "    sample_data_with_binding[col_name_distance] = randomized_Distance"
   ]
  },
  {
   "cell_type": "code",
   "execution_count": null,
   "id": "287e4df4",
   "metadata": {},
   "outputs": [],
   "source": [
    "sample_data_with_binding_subset = sample_data_with_binding.iloc[random_subset]"
   ]
  },
  {
   "cell_type": "code",
   "execution_count": null,
   "id": "267a2d80",
   "metadata": {},
   "outputs": [],
   "source": [
    "for k in range(0,5):\n",
    "    col_name_sasa = 'Random SASA Round ' + str(k+1)\n",
    "    col_name_distance = 'Random Distance Round ' + str(k+1)\n",
    "    print(\"Round \"+str(k))\n",
    "    print(ss.ttest_ind(sample_data_with_binding_subset['Distance'], sample_data_with_binding_subset[col_name_distance], equal_var=False))\n",
    "    print(ss.ttest_ind(sample_data_with_binding_subset['SASA'], sample_data_with_binding_subset[col_name_sasa], equal_var=False))\n",
    "    print(weightstats.ztest(sample_data_with_binding_subset['Distance'], sample_data_with_binding_subset[col_name_distance], value=0))\n",
    "    print(weightstats.ztest(sample_data_with_binding_subset['SASA'], sample_data_with_binding_subset[col_name_sasa], value=0))"
   ]
  },
  {
   "cell_type": "code",
   "execution_count": null,
   "id": "e9811773",
   "metadata": {},
   "outputs": [],
   "source": [
    "print(weightstats.ztest(sample_data_with_binding_subset['Distance'], sample_data_with_binding_subset[col_name_distance], value=0))\n",
    "print(weightstats.ztest(sample_data_with_binding_subset['SASA'], sample_data_with_binding_subset[col_name_sasa], value=0))"
   ]
  },
  {
   "cell_type": "code",
   "execution_count": null,
   "id": "d54b229b",
   "metadata": {},
   "outputs": [],
   "source": [
    "sample_data_with_binding_subset.to_excel(\"Full sasa and distance dataset after randomly shuffling 5 times.xlsx\")"
   ]
  },
  {
   "cell_type": "code",
   "execution_count": null,
   "id": "c7df20f1",
   "metadata": {},
   "outputs": [],
   "source": []
  }
 ],
 "metadata": {
  "kernelspec": {
   "display_name": "Python 3 (ipykernel)",
   "language": "python",
   "name": "python3"
  },
  "language_info": {
   "codemirror_mode": {
    "name": "ipython",
    "version": 3
   },
   "file_extension": ".py",
   "mimetype": "text/x-python",
   "name": "python",
   "nbconvert_exporter": "python",
   "pygments_lexer": "ipython3",
   "version": "3.9.12"
  }
 },
 "nbformat": 4,
 "nbformat_minor": 5
}
