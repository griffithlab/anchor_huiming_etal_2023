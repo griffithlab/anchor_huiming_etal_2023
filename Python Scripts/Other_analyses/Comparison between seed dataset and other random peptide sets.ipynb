{
 "cells": [
  {
   "cell_type": "code",
   "execution_count": null,
   "id": "c7604782",
   "metadata": {},
   "outputs": [],
   "source": [
    "import numpy as np\n",
    "import pandas as pd\n",
    "import regex\n",
    "import random\n",
    "import pickle\n",
    "import matplotlib.pyplot as plt\n",
    "%matplotlib inline\n",
    "plt.ion()\n",
    "import os\n",
    "import matplotlib.style as style\n",
    "import matplotlib.cm as mplcm\n",
    "import matplotlib.colors as colors\n",
    "from collections import Counter\n",
    "import csv\n",
    "import seaborn as sns\n",
    "import matplotlib as mpl\n",
    "import gzip\n",
    "mpl.rcParams['pdf.fonttype'] = 42\n",
    "\n",
    "plt.style.use('seaborn')\n",
    "\n",
    "def save_obj(obj, name ):\n",
    "    with open('obj/'+ name + '.pkl', 'wb') as f:\n",
    "        pickle.dump(obj, f, pickle.HIGHEST_PROTOCOL)\n",
    "\n",
    "def load_obj(name ):\n",
    "    with open('/Users/h.xia/Desktop/Griffith_Lab/R_shiny_visualization/anchor_analysis/obj/' + name + '.pkl', 'rb') as f:\n",
    "        return pickle.load(f)\n",
    "\n",
    "amino_acids = ['A', 'R', 'N', 'D', 'C', 'E', 'Q', 'G', 'H', 'I', 'L', 'K', 'M', 'F', 'P', 'S', 'T', 'W', 'Y', 'V']\n",
    "def all_possible_mutations(peptides):\n",
    "    new_peptides = []\n",
    "    for i in peptides:\n",
    "        #print(i)\n",
    "        for j in range(0, len(i)):\n",
    "            for k in amino_acids:\n",
    "                new_peptide = i[:j]+k+i[j+1:]\n",
    "                #print(new_peptide)\n",
    "                new_peptides.append(new_peptide)\n",
    "        #break\n",
    "    return new_peptides\n",
    "\n",
    "def get_random_str(main_str, substr_len):\n",
    "    idx = random.randrange(0, len(main_str) - substr_len + 1)    # Randomly select an \"idx\" such that \"idx + substr_len <= len(main_str)\".\n",
    "    return main_str[idx : (idx+substr_len)]"
   ]
  },
  {
   "cell_type": "markdown",
   "id": "971a7827",
   "metadata": {},
   "source": [
    "## Random Peptides Generation"
   ]
  },
  {
   "cell_type": "code",
   "execution_count": null,
   "id": "6dd146d4",
   "metadata": {},
   "outputs": [],
   "source": [
    "random_peptide_sequence = random.choices(amino_acids, k=100000000)\n",
    "random_peptide_sequence = \"\".join(random_peptide_sequence)"
   ]
  },
  {
   "cell_type": "code",
   "execution_count": null,
   "id": "5e614e30",
   "metadata": {},
   "outputs": [],
   "source": [
    "random_peptide_list = []\n",
    "for i in range(0, 50000):\n",
    "    random_9_mer = get_random_str(random_peptide_sequence,9)\n",
    "    random_peptide_list.append(random_9_mer)"
   ]
  },
  {
   "cell_type": "code",
   "execution_count": null,
   "id": "8eab78da",
   "metadata": {},
   "outputs": [],
   "source": [
    "fasta_file = open(\"HLA-A0201_anchor_random_9mer_input_discovery_phase_add.fa\", 'w+')\n",
    "for i,j in enumerate(random_peptide_list):\n",
    "    fasta_file.write(\">\"+str(i+1)+'\\n')\n",
    "    fasta_file.write(j+'\\n')\n",
    "fasta_file.close()"
   ]
  },
  {
   "cell_type": "code",
   "execution_count": null,
   "id": "167db580",
   "metadata": {},
   "outputs": [],
   "source": [
    "all_epitopes_random = pd.read_table(\"./ANCHOR.all_epitopes.random.discovery.add.tsv\", delimiter='\\t')\n",
    "good_binding_random_peptides = all_epitopes_random[all_epitopes_random[\"Median Score\"] <= 500][\"Epitope Seq\"]\n",
    "good_binding_random_peptides = list(good_binding_random_peptides)\n",
    "print(len(good_binding_random_peptides))"
   ]
  },
  {
   "cell_type": "code",
   "execution_count": null,
   "id": "20ab668a",
   "metadata": {},
   "outputs": [],
   "source": [
    "random_peptide_list_1000 = random.sample(good_binding_random_peptides, 1000)"
   ]
  },
  {
   "cell_type": "code",
   "execution_count": null,
   "id": "c64e6593",
   "metadata": {},
   "outputs": [],
   "source": [
    "fasta_file = open(\"HLA-A0201_anchor_random_9mer_input.fa\", 'w+')\n",
    "all_mutated = all_possible_mutations(random_peptide_list_1000)\n",
    "for i,j in enumerate(all_mutated):\n",
    "    fasta_file.write(\">\"+str(i+1)+'\\n')\n",
    "    fasta_file.write(j+'\\n')\n",
    "fasta_file.close()"
   ]
  },
  {
   "cell_type": "markdown",
   "id": "24111bc1",
   "metadata": {},
   "source": [
    "## Reference Proteome Peptide Generation"
   ]
  },
  {
   "cell_type": "code",
   "execution_count": null,
   "id": "0059cfe6",
   "metadata": {},
   "outputs": [],
   "source": [
    "protein_seq_list = []\n",
    "count = 0\n",
    "#other_count = 0\n",
    "with gzip.open(\"Homo_sapiens.GRCh38.pep.all.fa.gz\", 'rt') as refseq:\n",
    "    for line in refseq:\n",
    "        other_count += 1\n",
    "        if line[0] != \">\":\n",
    "            count += 1\n",
    "            split = line.split(\"\\n\")\n",
    "            if \"*\" not in split[0]:\n",
    "                protein_seq_list.append(split[0])\n",
    "            if count > 1:\n",
    "                current = protein_seq_list.pop()\n",
    "                prev = protein_seq_list.pop()\n",
    "                new_current = prev + current\n",
    "                #print(prev, current, new_current)\n",
    "                protein_seq_list.append(new_current)\n",
    "        else:\n",
    "            count = 0\n",
    "        #if other_count == 1000:\n",
    "            #break\n",
    "refseq.close()"
   ]
  },
  {
   "cell_type": "code",
   "execution_count": null,
   "id": "3a457f6b",
   "metadata": {},
   "outputs": [],
   "source": [
    "protein_seq_list_above_8mer = [i for i in protein_seq_list if len(i) > 8]"
   ]
  },
  {
   "cell_type": "code",
   "execution_count": null,
   "id": "cdcbedd2",
   "metadata": {},
   "outputs": [],
   "source": [
    "wt_peptide_list = []\n",
    "for i in range(0, 30000):\n",
    "    random_protein = random.choice(protein_seq_list_above_8mer)\n",
    "    random_9_mer = get_random_str(random_protein,9)\n",
    "    wt_peptide_list.append(random_9_mer)"
   ]
  },
  {
   "cell_type": "code",
   "execution_count": null,
   "id": "c1f36a07",
   "metadata": {},
   "outputs": [],
   "source": [
    "fasta_file = open(\"HLA-A0201_anchor_wt_9mer_input_discovery_phase.fa\", 'w+')\n",
    "for i,j in enumerate(wt_peptide_list):\n",
    "    fasta_file.write(\">\"+str(i+1)+'\\n')\n",
    "    fasta_file.write(j+'\\n')\n",
    "fasta_file.close()"
   ]
  },
  {
   "cell_type": "code",
   "execution_count": null,
   "id": "70ff37ba",
   "metadata": {},
   "outputs": [],
   "source": [
    "all_epitopes_wt = pd.read_table(\"./ANCHOR.all_epitopes.wt.discovery.tsv\", delimiter='\\t')\n",
    "good_binding_wt_peptides = all_epitopes_wt[all_epitopes_wt[\"Median Score\"] <= 500][\"Epitope Seq\"]\n",
    "good_binding_wt_peptides = list(good_binding_wt_peptides)\n",
    "print(len(np.unique(good_binding_wt_peptides)))"
   ]
  },
  {
   "cell_type": "code",
   "execution_count": null,
   "id": "2bb1109f",
   "metadata": {},
   "outputs": [],
   "source": [
    "wt_peptide_list_1000 = random.sample(good_binding_wt_peptides, 1000)"
   ]
  },
  {
   "cell_type": "code",
   "execution_count": null,
   "id": "d9c7ba24",
   "metadata": {},
   "outputs": [],
   "source": [
    "fasta_file = open(\"HLA-A0201_anchor_wt_9mer_input_1000.fa\", 'w+')\n",
    "all_mutated = all_possible_mutations(wt_peptide_list_1000)\n",
    "for i,j in enumerate(all_mutated):\n",
    "    fasta_file.write(\">\"+str(i+1)+'\\n')\n",
    "    fasta_file.write(j+'\\n')\n",
    "fasta_file.close()"
   ]
  },
  {
   "cell_type": "markdown",
   "id": "4bf61325",
   "metadata": {},
   "source": [
    "## Viral Genome peptides"
   ]
  },
  {
   "cell_type": "code",
   "execution_count": null,
   "id": "39a615c5",
   "metadata": {},
   "outputs": [],
   "source": [
    "covid_seq_list = []\n",
    "count = 0\n",
    "with open(\"covid19_proteins.fa\") as refseq:\n",
    "    for line in refseq:\n",
    "        if line[0] != \">\":\n",
    "            count += 1\n",
    "            split = line.split(\"\\n\")\n",
    "            covid_seq_list.append(split[0])\n",
    "            if count > 1:\n",
    "                current = covid_seq_list.pop()\n",
    "                prev = covid_seq_list.pop()\n",
    "                new_current = prev + current\n",
    "                covid_seq_list.append(new_current)\n",
    "        else:\n",
    "            count = 0\n",
    "refseq.close()\n",
    "\n",
    "covid_peptide_list = []\n",
    "for i in range(0, 30000):\n",
    "    random_protein = random.choice(covid_seq_list)\n",
    "    random_9_mer = get_random_str(random_protein,9)\n",
    "    covid_peptide_list.append(random_9_mer)\n",
    "    "
   ]
  },
  {
   "cell_type": "code",
   "execution_count": null,
   "id": "8c4d96a2",
   "metadata": {},
   "outputs": [],
   "source": [
    "viral_seq_list = []\n",
    "count = 0\n",
    "with gzip.open(\"uniprot-compressed_true_download_true_format_fasta_query__28proteome-2022.08.12-16.26.49.28.fasta.gz\", 'rt') as refseq:\n",
    "    for line in refseq:\n",
    "        if line[0] != \">\":\n",
    "            count += 1\n",
    "            split = line.split(\"\\n\")\n",
    "            viral_seq_list.append(split[0])\n",
    "            if count > 1:\n",
    "                current = viral_seq_list.pop()\n",
    "                prev = viral_seq_list.pop()\n",
    "                new_current = prev + current\n",
    "                viral_seq_list.append(new_current)\n",
    "        else:\n",
    "            count = 0\n",
    "refseq.close()"
   ]
  },
  {
   "cell_type": "code",
   "execution_count": null,
   "id": "9e7fd95d",
   "metadata": {},
   "outputs": [],
   "source": [
    "viral_peptide_list = []\n",
    "for i in range(0, 30000):\n",
    "    random_protein = random.choice(viral_seq_list)\n",
    "    random_9_mer = get_random_str(random_protein,9)\n",
    "    viral_peptide_list.append(random_9_mer)"
   ]
  },
  {
   "cell_type": "code",
   "execution_count": null,
   "id": "04e92f17",
   "metadata": {},
   "outputs": [],
   "source": [
    "viral_peptide_list_add = []\n",
    "for i in range(0, 50000):\n",
    "    random_protein = random.choice(viral_seq_list)\n",
    "    random_9_mer = get_random_str(random_protein,9)\n",
    "    if random_9_mer not in viral_peptide_list:\n",
    "        viral_peptide_list_add.append(random_9_mer)"
   ]
  },
  {
   "cell_type": "code",
   "execution_count": null,
   "id": "8600e21a",
   "metadata": {},
   "outputs": [],
   "source": [
    "len(viral_peptide_list_add), len(np.unique(viral_peptide_list_add))"
   ]
  },
  {
   "cell_type": "code",
   "execution_count": null,
   "id": "359528db",
   "metadata": {},
   "outputs": [],
   "source": [
    "fasta_file = open(\"HLA-A0201_anchor_viral_9mer_input_discovery_phase_add.fa\", 'w+')\n",
    "for i,j in enumerate(viral_peptide_list_add):\n",
    "    fasta_file.write(\">\"+str(i+1)+'\\n')\n",
    "    fasta_file.write(j+'\\n')\n",
    "fasta_file.close()"
   ]
  },
  {
   "cell_type": "code",
   "execution_count": null,
   "id": "79cff057",
   "metadata": {},
   "outputs": [],
   "source": [
    "all_epitopes_viral_1 = pd.read_table(\"./ANCHOR.all_epitopes.viral.discovery.tsv\", delimiter='\\t')\n",
    "all_epitopes_viral_2 = pd.read_table(\"./ANCHOR.all_epitopes.viral.discovery.add.tsv\", delimiter='\\t')\n",
    "all_epitopes_viral = pd.concat([all_epitopes_viral_1, all_epitopes_viral_2])\n",
    "good_binding_viral_peptides = all_epitopes_viral[all_epitopes_viral[\"Median Score\"] <= 500][\"Epitope Seq\"]\n",
    "good_binding_viral_peptides = list(good_binding_viral_peptides)\n",
    "print(len(good_binding_viral_peptides), len(np.unique(good_binding_viral_peptides)))"
   ]
  },
  {
   "cell_type": "code",
   "execution_count": null,
   "id": "db1b8773",
   "metadata": {},
   "outputs": [],
   "source": [
    "viral_peptide_list_1000 = random.sample(good_binding_viral_peptides, 1000)"
   ]
  },
  {
   "cell_type": "code",
   "execution_count": null,
   "id": "d7601c93",
   "metadata": {},
   "outputs": [],
   "source": [
    "fasta_file = open(\"HLA-A0201_anchor_viral_9mer_input.fa\", 'w+')\n",
    "all_mutated = all_possible_mutations(viral_peptide_list_1000)\n",
    "for i,j in enumerate(all_mutated):\n",
    "    fasta_file.write(\">\"+str(i+1)+'\\n')\n",
    "    fasta_file.write(j+'\\n')\n",
    "fasta_file.close()"
   ]
  },
  {
   "cell_type": "markdown",
   "id": "26253140",
   "metadata": {},
   "source": [
    "## Peptide results analysis "
   ]
  },
  {
   "cell_type": "code",
   "execution_count": null,
   "id": "76ffca3e",
   "metadata": {},
   "outputs": [],
   "source": [
    "### For finding the sequences that are at most one mutation away\n",
    "def one_mutation_sequence_match(seq1, seq2):\n",
    "    m = regex.findall(\"(\"+seq1+\"){s<=1}\", seq2, overlapped=True)\n",
    "    return m!=[]\n",
    "\n",
    "### For creating the dictionary matching all original epitopes to their mutation and scores\n",
    "def create_mutation_dictionary(og_epitopes, all_mutated_epitopes, all_mutated_median):\n",
    "    all_mutated_epitopes_new = all_mutated_epitopes\n",
    "    mutation_dict = {}\n",
    "    for i in og_epitopes:\n",
    "        count = 0\n",
    "        mutation_dict[i] = {}\n",
    "        for k,j in enumerate(all_mutated_epitopes):\n",
    "            #print(i,j)\n",
    "            if one_mutation_sequence_match(i,j):\n",
    "                #print ('dropping: '+str(k))\n",
    "                median = all_mutated_median[k]\n",
    "                mutation_dict[i][j] = median\n",
    "                #print(i,j,k)\n",
    "                try:\n",
    "                    all_mutated_epitopes_new = all_mutated_epitopes_new.drop(k)\n",
    "                    count += 1\n",
    "                except:\n",
    "                    continue\n",
    "        #print (len(all_mutated_epitopes_new))\n",
    "        #print (count)\n",
    "    return mutation_dict\n",
    "\n",
    "amino_acids = ['A', 'R', 'N', 'D', 'C', 'E', 'Q', 'G', 'H', 'I', 'L', 'K', 'M', 'F', 'P', 'S', 'T', 'W', 'Y', 'V']\n",
    "\n",
    "### for calculating sum differences for each individual epitope for each individual position\n",
    "def calculate_sum_diff(og_epitopes, all_scores, all_mutant_dict): \n",
    "    sum_dict = {}\n",
    "    og_scores = np.unique([all_scores[all_scores['Epitope Seq'] == i]['Median Score'].iloc[0] for i in og_epitopes])\n",
    "    #print(og_scores)\n",
    "    for (i,j) in zip(og_epitopes, og_scores):\n",
    "        mutant_list = all_mutant_dict[i]\n",
    "        sum_dict[i] = []\n",
    "        if len(mutant_list) == 0:\n",
    "            continue\n",
    "        for n in range(0, len(i)):\n",
    "            sum_score_diff = 0\n",
    "            for k in amino_acids:\n",
    "                query_peptide = i[:n]+k+i[n+1:]\n",
    "                score = mutant_list[query_peptide]\n",
    "                sum_score_diff += abs(score-j)\n",
    "            sum_dict[i].append([n, sum_score_diff])\n",
    "        \n",
    "    return sum_dict\n",
    "\n",
    "### for calculating the overall sum differences across all 10 original epitopes \n",
    "def overall_pos_sum_diff(sum_diff_results, pos_length):\n",
    "    overall_score = [0]*pos_length\n",
    "    for i in sum_diff_results.keys():\n",
    "        for j in range(len(i)):\n",
    "            (pos, score) = sum_diff_results[i][j]\n",
    "            overall_score[pos] += score\n",
    "    return overall_score\n",
    "\n",
    "def calculate_all_diff(og_epitopes, all_scores, all_mutant_dict): \n",
    "    all_diff_dict = {}\n",
    "    #og_scores = np.unique([all_scores[all_scores['Epitope Seq'] == i]['Median Score'].iloc[0] for i in og_epitopes])\n",
    "    og_scores = []\n",
    "    for i in og_epitopes:\n",
    "        #print(i)\n",
    "        score = all_scores[all_scores['Epitope Seq'] == i]['Median Score'].iloc[0]\n",
    "        og_scores.append(score)\n",
    "    og_scores = np.unique(og_scores)\n",
    "    for (i,j) in zip(og_epitopes, og_scores):\n",
    "        mutant_list = all_mutant_dict[i]\n",
    "        all_diff_dict[i] = {}\n",
    "        for n in range(0, len(i)):\n",
    "            all_diff_dict[i][n+1] = {}\n",
    "            for k in amino_acids:\n",
    "                query_peptide = i[:n]+k+i[n+1:]\n",
    "                score = mutant_list[query_peptide]\n",
    "                all_diff_dict[i][n+1][k] = score\n",
    "        \n",
    "    return all_diff_dict"
   ]
  },
  {
   "cell_type": "code",
   "execution_count": null,
   "id": "d16c1a8e",
   "metadata": {},
   "outputs": [],
   "source": [
    "all_epitopes_random = pd.read_table(\"./ANCHOR.all_epitopes.random.tsv\", delimiter='\\t')\n",
    "good_binders_random = random.choices(good_binding_random_peptides, k=100)"
   ]
  },
  {
   "cell_type": "code",
   "execution_count": null,
   "id": "dc9d69d3",
   "metadata": {},
   "outputs": [],
   "source": [
    "all_epitopes_wt = pd.read_table(\"./ANCHOR.all_epitopes.wt.tsv\", delimiter='\\t')\n",
    "good_binders_wt = wt_peptide_list_1000"
   ]
  },
  {
   "cell_type": "code",
   "execution_count": null,
   "id": "3813ea80",
   "metadata": {},
   "outputs": [],
   "source": [
    "all_epitopes_viral = pd.read_table(\"./ANCHOR.all_epitopes.viral.tsv\", delimiter='\\t')\n",
    "good_binders_viral= viral_peptide_list_1000"
   ]
  },
  {
   "cell_type": "code",
   "execution_count": null,
   "id": "809cf7e3",
   "metadata": {},
   "outputs": [],
   "source": [
    "overall_pos_scores = {}\n",
    "\n",
    "og_epitopes_random = good_binders_random\n",
    "print(\"Here 1\")\n",
    "mutation_dictionary_random = create_mutation_dictionary(og_epitopes_random, all_epitopes_random['Epitope Seq'], all_epitopes_random['Median Score'])\n",
    "save_obj(mutation_dictionary_random, \"mutation_dictionary_random_comparison_analysis\")\n",
    "print(\"Here 2\")\n",
    "sum_diff_pos_random = calculate_sum_diff(og_epitopes_random, all_epitopes_random, mutation_dictionary_random)\n",
    "print(\"Here 3\")\n",
    "overall_pos_scores[\"Random Peptides\"] = overall_pos_sum_diff(sum_diff_pos_random,9)\n",
    "\n",
    "og_epitopes_wt = good_binders_wt\n",
    "print(\"Here 1\")\n",
    "mutation_dictionary_wt = create_mutation_dictionary(og_epitopes_wt, all_epitopes_wt['Epitope Seq'], all_epitopes_wt['Median Score'])\n",
    "save_obj(mutation_dictionary_wt, \"mutation_dictionary_wt_comparison_analysis\")\n",
    "print(\"Here 2\")\n",
    "sum_diff_pos_wt = calculate_sum_diff(og_epitopes_wt, all_epitopes_wt, mutation_dictionary_wt)\n",
    "print(\"Here 3\")\n",
    "overall_pos_scores[\"WildType Peptides\"] = overall_pos_sum_diff(sum_diff_pos_wt,9)\n",
    "\n",
    "og_epitopes_viral = good_binders_viral\n",
    "print(\"Here 1\")\n",
    "mutation_dictionary_viral = create_mutation_dictionary(og_epitopes_viral, all_epitopes_viral['Epitope Seq'], all_epitopes_viral['Median Score'])\n",
    "save_obj(mutation_dictionary_viral, \"mutation_dictionary_viral_comparison_analysis\")\n",
    "print(\"Here 2\")\n",
    "sum_diff_pos_viral = calculate_sum_diff(og_epitopes_viral, all_epitopes_viral, mutation_dictionary_viral)\n",
    "print(\"Here 3\")\n",
    "overall_pos_scores[\"Viral Peptides\"] = overall_pos_sum_diff(sum_diff_pos_viral,9)"
   ]
  },
  {
   "cell_type": "code",
   "execution_count": null,
   "id": "179a8bac",
   "metadata": {},
   "outputs": [],
   "source": [
    "og_saturation_results = load_obj(\"saturation_analysis/random_round_1/overall_pos_scores_9_mer_dict\")\n",
    "gold_standard_1000 = og_saturation_results[1000]"
   ]
  },
  {
   "cell_type": "code",
   "execution_count": null,
   "id": "8f535e77",
   "metadata": {},
   "outputs": [],
   "source": [
    "comparison_data = pd.DataFrame(data = {\n",
    "    \"methods\": [\"Random Peptides\", \"WildType Peptides\", \"Viral Peptides\", \"Tumor mutation derived Peptides\"],\n",
    "    \"scores\": [\n",
    "        [i/sum(overall_pos_scores['Random Peptides']) for i in overall_pos_scores['Random Peptides']],\n",
    "        [i/sum(overall_pos_scores['WildType Peptides']) for i in overall_pos_scores['WildType Peptides']],\n",
    "        [i/sum(overall_pos_scores['Viral Peptides']) for i in overall_pos_scores['Viral Peptides']],\n",
    "        [i/sum(gold_standard_1000) for i in gold_standard_1000]\n",
    "    ]}\n",
    ")"
   ]
  },
  {
   "cell_type": "code",
   "execution_count": null,
   "id": "91871b44",
   "metadata": {},
   "outputs": [],
   "source": [
    "pos = [1,2,3,4,5,6,7,8,9]\n",
    "for n, i in comparison_data.iterrows():\n",
    "    method = i[\"methods\"]\n",
    "    score = i[\"scores\"]\n",
    "    plt.plot(pos, score, label = method)\n",
    "plt.title(\"Comparison of anchor pattern for HLA-A*02:01 using peptides from seed dataset versus other methods\")\n",
    "legend = plt.legend(title=\"Peptide Source\", shadow=True)\n",
    "legend.get_frame().set_facecolor('white')\n",
    "#plt.savefig(\"Comparison of anchor pattern for HLA-A*02:01 using peptides from seed dataset versus other methods.png\", dpi=300)\n",
    "plt.show()"
   ]
  },
  {
   "cell_type": "code",
   "execution_count": null,
   "id": "9f0991c8",
   "metadata": {},
   "outputs": [],
   "source": []
  },
  {
   "cell_type": "code",
   "execution_count": null,
   "id": "7ba2ab68",
   "metadata": {},
   "outputs": [],
   "source": []
  }
 ],
 "metadata": {
  "kernelspec": {
   "display_name": "Python 3 (ipykernel)",
   "language": "python",
   "name": "python3"
  },
  "language_info": {
   "codemirror_mode": {
    "name": "ipython",
    "version": 3
   },
   "file_extension": ".py",
   "mimetype": "text/x-python",
   "name": "python",
   "nbconvert_exporter": "python",
   "pygments_lexer": "ipython3",
   "version": "3.9.12"
  }
 },
 "nbformat": 4,
 "nbformat_minor": 5
}
