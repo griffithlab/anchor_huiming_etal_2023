{
 "cells": [
  {
   "cell_type": "code",
   "execution_count": null,
   "id": "1b438ec4",
   "metadata": {},
   "outputs": [],
   "source": [
    "import numpy as np\n",
    "import scipy\n",
    "import pandas as pd\n",
    "import regex\n",
    "import pickle\n",
    "import matplotlib.pyplot as plt\n",
    "%matplotlib inline\n",
    "plt.ion()\n",
    "import os\n",
    "import matplotlib.style as style\n",
    "import matplotlib.cm as mplcm\n",
    "import matplotlib.colors as colors\n",
    "from collections import Counter\n",
    "import csv\n",
    "import seaborn as sns\n",
    "import matplotlib as mpl\n",
    "import re\n",
    "import statistics\n",
    "plt.style.use('seaborn')\n",
    "\n",
    "def save_obj(obj, name ):\n",
    "    with open('obj/'+ name + '.pkl', 'wb') as f:\n",
    "        pickle.dump(obj, f, pickle.HIGHEST_PROTOCOL)\n",
    "\n",
    "def load_obj(name ):\n",
    "    with open('../obj/' + name + '.pkl', 'rb') as f:\n",
    "        return pickle.load(f)\n",
    "\n",
    "def lines_that_contain(string, fp):\n",
    "    return [line for line in fp if string in line]"
   ]
  },
  {
   "cell_type": "markdown",
   "id": "30785ce3",
   "metadata": {},
   "source": [
    "## NetMHCpan distance metrics"
   ]
  },
  {
   "cell_type": "code",
   "execution_count": null,
   "id": "7d949c43",
   "metadata": {},
   "outputs": [],
   "source": [
    "data_8 = pd.read_excel(\"/Users/h.xia/Desktop/Griffith_Lab/Anchor Paper/Supp Data/Supp Table 1.xlsx\", sheet_name=\"8-mer\")\n",
    "data_9 = pd.read_excel(\"/Users/h.xia/Desktop/Griffith_Lab/Anchor Paper/Supp Data/Supp Table 1.xlsx\", sheet_name=\"9-mer\")\n",
    "data_10 = pd.read_excel(\"/Users/h.xia/Desktop/Griffith_Lab/Anchor Paper/Supp Data/Supp Table 1.xlsx\", sheet_name=\"10-mer\")\n",
    "data_11 = pd.read_excel(\"/Users/h.xia/Desktop/Griffith_Lab/Anchor Paper/Supp Data/Supp Table 1.xlsx\", sheet_name=\"11-mer\")"
   ]
  },
  {
   "cell_type": "code",
   "execution_count": null,
   "id": "94f33349",
   "metadata": {},
   "outputs": [],
   "source": [
    "hla_alleles = list(set(list(data_8['HLA allele']) + list(data_9['HLA allele']) + list(data_10['HLA allele']) + list(data_11['HLA allele'])))"
   ]
  },
  {
   "cell_type": "code",
   "execution_count": null,
   "id": "07c662a8",
   "metadata": {},
   "outputs": [],
   "source": [
    "count = 0\n",
    "grouping = []\n",
    "for i in range(0,10):\n",
    "    hla_string = \"\"\n",
    "    for j in range(0,40):\n",
    "        try:\n",
    "            hla_string += hla_alleles[count]\n",
    "            hla_string += \",\"\n",
    "            count += 1\n",
    "        except:\n",
    "            break\n",
    "    hla_string = hla_string.replace(\"*\", \"\")\n",
    "    grouping.append(hla_string)"
   ]
  },
  {
   "cell_type": "code",
   "execution_count": null,
   "id": "266b5b58",
   "metadata": {},
   "outputs": [],
   "source": [
    "hla_list = []\n",
    "neighbor_list = []\n",
    "distance_list = []\n",
    "for i in range(0,10):\n",
    "    with open(\"../netMHCpan-4.0/hla_group_\"+str(i)+\".log\", \"r\") as fp:\n",
    "        for line in lines_that_contain(\"using nearest neighbor\", fp):\n",
    "            line1 = line.replace(\")\\n\",\"\")\n",
    "            breakdown = line1.split(\" \")\n",
    "            original_hla = breakdown[0]\n",
    "            nearest_neighbor = breakdown[-1]\n",
    "            distance = breakdown[7]\n",
    "            hla_list.append(re.sub(r\"([0-9,:]+(\\.[0-9,:]+)?)\",r\"*\\1\", original_hla).strip())\n",
    "            neighbor_list.append(re.sub(r\"([0-9,:]+(\\.[0-9,:]+)?)\",r\"*\\1\", nearest_neighbor).strip())\n",
    "            distance_list.append(distance)"
   ]
  },
  {
   "cell_type": "code",
   "execution_count": null,
   "id": "fcbbbf5f",
   "metadata": {},
   "outputs": [],
   "source": [
    "distance_data = pd.DataFrame()\n",
    "distance_data[\"Original HLA Allele\"] = hla_list\n",
    "distance_data[\"Nearest Neighbor\"] = neighbor_list\n",
    "distance_data[\"Distance\"] = np.array(distance_list).astype(float)\n",
    "#distance_data.to_excel(\"NetMHCpan4.0 Distance Metrics for Pan Alleles.xlsx\")"
   ]
  },
  {
   "cell_type": "code",
   "execution_count": null,
   "id": "759efaa1",
   "metadata": {},
   "outputs": [],
   "source": [
    "not_available_alleles = []\n",
    "for i in hla_alleles:\n",
    "    if i not in hla_list:\n",
    "        not_available_alleles.append(i)"
   ]
  },
  {
   "cell_type": "markdown",
   "id": "73898c25",
   "metadata": {},
   "source": [
    "## Variance metrics"
   ]
  },
  {
   "cell_type": "code",
   "execution_count": null,
   "id": "8d3f1fd7",
   "metadata": {},
   "outputs": [],
   "source": [
    "filtered_epitopes_combined = load_obj('filtered_epitopes_combined_round_4')"
   ]
  },
  {
   "cell_type": "code",
   "execution_count": null,
   "id": "7f2ecd29",
   "metadata": {},
   "outputs": [],
   "source": [
    "columns = ['MT Epitope Seq', 'HLA Allele', 'MHCflurry MT Score', 'MHCnuggetsI MT Score', 'NetMHC MT Score', 'NetMHCcons MT Score',\n",
    "           'NetMHCpan MT Score', 'SMM MT Score', 'SMMPMBEC MT Score', 'PickPocket MT Score']\n",
    "data = filtered_epitopes_combined[columns]\n",
    "data = data.drop_duplicates()"
   ]
  },
  {
   "cell_type": "code",
   "execution_count": null,
   "id": "3c806539",
   "metadata": {},
   "outputs": [],
   "source": [
    "variance_list = np.nanstd(data.loc[:, (data.columns != 'MT Epitope Seq') & (data.columns != 'HLA Allele')], axis=1)\n",
    "data[\"Standard Deviation\"] = variance_list\n",
    "data['Algorithm Count'] = data.loc[:,'MHCflurry MT Score':'PickPocket MT Score'].count(axis=1)"
   ]
  },
  {
   "cell_type": "code",
   "execution_count": null,
   "id": "ee9a1b50",
   "metadata": {},
   "outputs": [],
   "source": [
    "data_null = data.isnull()\n",
    "data[\"Algorithm Null List\"] = data_null.eq(1).dot(data_null.columns + ',').str.rstrip(',').str.split(',')\n",
    "algorithms = ['MHCflurry MT Score', 'MHCnuggetsI MT Score', 'NetMHC MT Score', 'NetMHCcons MT Score',\n",
    "           'NetMHCpan MT Score', 'SMM MT Score', 'SMMPMBEC MT Score', 'PickPocket MT Score']\n",
    "algorithm_list = []\n",
    "for n, i in data.iterrows():\n",
    "    l = i[\"Algorithm Null List\"]\n",
    "    new_l = []\n",
    "    for j in algorithms:\n",
    "        if j not in l:\n",
    "            new_l.append(j)\n",
    "    algorithm_list.append(new_l)\n",
    "data[\"Algorithm List\"] = algorithm_list\n",
    "data[\"Peptide Length\"] = [len(str(i)) for i in data[\"MT Epitope Seq\"]]"
   ]
  },
  {
   "cell_type": "code",
   "execution_count": null,
   "id": "f6be545c",
   "metadata": {},
   "outputs": [],
   "source": [
    "hla_column = []\n",
    "variance_mean = []\n",
    "neighbor_column = []\n",
    "distance_column = []\n",
    "cluster_column = []\n",
    "algorithm_count_column= []\n",
    "algorithm_list_column = []\n",
    "algorithm_data_used_column = []\n",
    "overall_data = pd.DataFrame()\n",
    "for i in hla_alleles:\n",
    "    hla_data = data.loc[data[\"HLA Allele\"] == i,:]\n",
    "    mean = np.mean(hla_data[\"Standard Deviation\"])\n",
    "    try:\n",
    "        neighbor = distance_data[distance_data[\"Original HLA Allele\"] == i][\"Nearest Neighbor\"].iloc[0]\n",
    "        distance = distance_data[distance_data[\"Original HLA Allele\"] == i][\"Distance\"].iloc[0]\n",
    "    except:\n",
    "        neighbor = \"Nan\"\n",
    "        distance = \"Nan\"\n",
    "    hla_column.append(i)\n",
    "    variance_mean.append(mean)\n",
    "    neighbor_column.append(neighbor)\n",
    "    distance_column.append(distance)\n",
    "    try:\n",
    "        cluster_column.append(data_9[data_9[\"HLA allele\"] == i][\"Cluster Color Codes\"].iloc[0])\n",
    "    except:\n",
    "        cluster_column.append(\"n/a\")\n",
    "    try:\n",
    "        print(\"Trying 9mer\")\n",
    "        mer_data = data[data[\"Peptide Length\"] == 9]\n",
    "        algorithm_count = np.max(mer_data.loc[mer_data[\"HLA Allele\"] == i,:][\"Algorithm Count\"])\n",
    "        algorithm_list = mer_data.loc[mer_data[\"HLA Allele\"] == i,:][\"Algorithm List\"].iloc[0]\n",
    "        algorithm_count_column.append(algorithm_count)\n",
    "        algorithm_list_column.append(algorithm_list)\n",
    "        algorithm_data_used_column.append(\"9-mer\")\n",
    "        print(\"Success\")\n",
    "        continue\n",
    "    except:\n",
    "        print(\"No 9-mer data available for: \", i)\n",
    "    try:\n",
    "        print(\"Trying 10mer\")\n",
    "        mer_data = data[data[\"Peptide Length\"] == 10]\n",
    "        algorithm_count = np.max(mer_data.loc[mer_data[\"HLA Allele\"] == i,:][\"Algorithm Count\"])\n",
    "        algorithm_list = mer_data.loc[mer_data[\"HLA Allele\"] == i,:][\"Algorithm List\"].iloc[0]\n",
    "        algorithm_count_column.append(algorithm_count)\n",
    "        algorithm_list_column.append(algorithm_list)\n",
    "        algorithm_data_used_column.append(\"10-mer\")\n",
    "        print(\"Success\")\n",
    "        continue\n",
    "    except:\n",
    "        print(\"No 10-mer data available for: \", i)\n",
    "    try:\n",
    "        print(\"Trying 8mer\")\n",
    "        mer_data = data[data[\"Peptide Length\"] == 8]\n",
    "        algorithm_count = np.max(mer_data.loc[mer_data[\"HLA Allele\"] == i,:][\"Algorithm Count\"])\n",
    "        algorithm_list = mer_data.loc[mer_data[\"HLA Allele\"] == i,:][\"Algorithm List\"].iloc[0]\n",
    "        algorithm_count_column.append(algorithm_count)\n",
    "        algorithm_list_column.append(algorithm_list)\n",
    "        algorithm_data_used_column.append(\"8-mer\")\n",
    "        print(\"Success\")\n",
    "        continue\n",
    "    except:\n",
    "        print(\"No 8-mer data available for: \", i)\n",
    "    try:\n",
    "        print(\"Trying 11mer\")\n",
    "        mer_data = data[data[\"Peptide Length\"] == 11]\n",
    "        algorithm_count = np.max(mer_data.loc[mer_data[\"HLA Allele\"] == i,:][\"Algorithm Count\"])\n",
    "        algorithm_list = mer_data.loc[mer_data[\"HLA Allele\"] == i,:][\"Algorithm List\"].iloc[0]\n",
    "        algorithm_count_column.append(algorithm_count)\n",
    "        algorithm_list_column.append(algorithm_list)\n",
    "        algorithm_data_used_column.append(\"11-mer\")\n",
    "        print(\"Success\")\n",
    "        continue\n",
    "    except:\n",
    "        print(\"No 11-mer data available for: \", i)\n",
    "        print(\"ERROR\")\n",
    "    \n",
    "overall_data[\"HLA allele\"] = hla_column\n",
    "overall_data[\"Nearest Neighbor\"] = neighbor_column\n",
    "overall_data[\"Distance\"] = np.array(distance_column).astype(float)\n",
    "overall_data[\"Standard Deviation Mean\"] = variance_mean\n",
    "overall_data[\"Cluster\"] = cluster_column\n",
    "overall_data[\"Algorithm Count\"] = algorithm_count_column\n",
    "overall_data[\"Algorithm List\"] = algorithm_list_column\n",
    "overall_data[\"Algorithm by Peptide Length\"] = algorithm_data_used_column"
   ]
  },
  {
   "cell_type": "code",
   "execution_count": null,
   "id": "46fdeaa0",
   "metadata": {
    "scrolled": true
   },
   "outputs": [],
   "source": [
    "#overall_data.to_excel(\"Supplementary table with HLA summary information.xlsx\")"
   ]
  },
  {
   "cell_type": "code",
   "execution_count": null,
   "id": "731661a8",
   "metadata": {},
   "outputs": [],
   "source": [
    "g = sns.scatterplot(data=overall_data, x=\"Distance\", y=\"Standard Deviation Mean\", hue = \"Cluster\",\n",
    "                palette=[\"red\", \"black\", \"orange\", \"purple\", \"grey\", \"green\", \"blue\"], size=3, alpha = 0.8)\n",
    "h,l = g.get_legend_handles_labels()\n",
    "plt.legend(h[0:7],l[0:7],bbox_to_anchor=(1.05, 1), loc=2, borderaxespad=0., fontsize=13)\n",
    "plt.xticks(rotation=90)\n",
    "#plt.savefig(\"HLA distance vs standard deviation mean by hla cluster.pdf\", dpi=300)"
   ]
  },
  {
   "cell_type": "markdown",
   "id": "3a9a1528",
   "metadata": {},
   "source": [
    "## NetMHCpan training data analysis"
   ]
  },
  {
   "cell_type": "code",
   "execution_count": null,
   "id": "5b3f9290",
   "metadata": {},
   "outputs": [],
   "source": [
    "training_data_ba = []\n",
    "for i in range(0,5):\n",
    "    with open(\"./NetMHCpan4.0 dataset/f00\"+str(i)+\"_ba.txt\", \"r\") as fp:\n",
    "        for line in fp:\n",
    "            line = line.strip(\"\\n\")\n",
    "            new_line = line.split(\" \")\n",
    "            training_data_ba.append(new_line)\n",
    "training_data_ba = pd.DataFrame(training_data_ba)\n",
    "\n",
    "training_data_el = []\n",
    "for i in range(0,5):\n",
    "    with open(\"./NetMHCpan4.0 dataset/f00\"+str(i)+\"_el.txt\", \"r\") as fp:\n",
    "        for line in fp:\n",
    "            line = line.strip(\"\\n\")\n",
    "            new_line = line.split(\"\\t\")\n",
    "            training_data_el.append(new_line)\n",
    "training_data_el = pd.DataFrame(training_data_el)"
   ]
  },
  {
   "cell_type": "code",
   "execution_count": null,
   "id": "5a00bee2",
   "metadata": {},
   "outputs": [],
   "source": [
    "ba_dict = dict(Counter(training_data_ba[2]))\n",
    "el_dict = dict(Counter(training_data_el[2]))"
   ]
  },
  {
   "cell_type": "code",
   "execution_count": null,
   "id": "bc7025c7",
   "metadata": {},
   "outputs": [],
   "source": [
    "supp_data = overall_data"
   ]
  },
  {
   "cell_type": "code",
   "execution_count": null,
   "id": "3a1de951",
   "metadata": {},
   "outputs": [],
   "source": [
    "ba_count_list = []\n",
    "el_count_list = []\n",
    "for n, i in supp_data.iterrows():\n",
    "    allele = i['HLA allele'].replace(\"*\", \"\")\n",
    "    try:\n",
    "        ba_count_list.append(ba_dict[allele])\n",
    "    except:\n",
    "        ba_count_list.append(0)\n",
    "    try:\n",
    "        el_count_list.append(el_dict[allele])\n",
    "    except:\n",
    "        el_count_list.append(0)\n",
    "supp_data['Training Data (BA)'] = ba_count_list\n",
    "supp_data['Training Data (EL)'] = el_count_list"
   ]
  },
  {
   "cell_type": "code",
   "execution_count": null,
   "id": "e78a7293",
   "metadata": {},
   "outputs": [],
   "source": [
    "#supp_data.to_excel(\"Supplementary table with HLA summary information.xlsx\")"
   ]
  },
  {
   "cell_type": "code",
   "execution_count": null,
   "id": "b063e319",
   "metadata": {},
   "outputs": [],
   "source": [
    "g = sns.scatterplot(data=overall_data[overall_data[\"Algorithm Count\"] == 4], x=\"Distance\", y=\"Standard Deviation Mean\", hue = \"Cluster\", size=3, alpha = 0.8,\n",
    "                palette=[\"orange\", \"purple\",\"red\",\"black\", \"blue\", \"green\"])\n",
    "h,l = g.get_legend_handles_labels()\n",
    "plt.legend(h[0:6],l[0:6],bbox_to_anchor=(1.05, 1), loc=2, borderaxespad=0., fontsize=13)\n",
    "plt.xticks(rotation=90)\n",
    "#plt.savefig(\"HLA distance vs standard deviation mean by hla cluster (algorithm = 4).pdf\", dpi=300)"
   ]
  },
  {
   "cell_type": "code",
   "execution_count": null,
   "id": "4cd7c749",
   "metadata": {},
   "outputs": [],
   "source": [
    "g = sns.scatterplot(data=overall_data[overall_data[\"Algorithm Count\"] == 8], x=\"Distance\", y=\"Standard Deviation Mean\", hue = \"Cluster\", size=3, alpha = 0.8,\n",
    "                palette=[\"orange\",\"purple\", \"red\",  \"grey\", \"green\", \"blue\"])\n",
    "h,l = g.get_legend_handles_labels()\n",
    "plt.legend(h[0:6],l[0:6],bbox_to_anchor=(1.05, 1), loc=2, borderaxespad=0., fontsize=13)\n",
    "plt.xticks(rotation=90)\n",
    "#plt.savefig(\"HLA distance vs standard deviation mean by hla cluster (algorithm = 8).pdf\", dpi=300)"
   ]
  },
  {
   "cell_type": "code",
   "execution_count": null,
   "id": "fa644e52",
   "metadata": {},
   "outputs": [],
   "source": [
    "g = sns.scatterplot(data=overall_data[overall_data[\"Algorithm Count\"] > 4], x=\"Distance\", y=\"Standard Deviation Mean\", hue = \"Cluster\", size=3, alpha = 0.8,\n",
    "                palette=[\"red\", \"orange\",\"purple\", \"grey\",  \"green\", \"blue\", \"black\"])\n",
    "h,l = g.get_legend_handles_labels()\n",
    "plt.legend(h[0:7],l[0:7],bbox_to_anchor=(1.05, 1), loc=2, borderaxespad=0., fontsize=13)\n",
    "plt.xticks(rotation=90)\n",
    "#plt.savefig(\"HLA distance vs standard deviation mean by hla cluster (4 < algorithm <= 8).pdf\", dpi=300)"
   ]
  },
  {
   "cell_type": "code",
   "execution_count": null,
   "id": "564a4b78",
   "metadata": {},
   "outputs": [],
   "source": [
    "plt.figure(figsize = (12,7))\n",
    "ax = sns.violinplot(x=\"Cluster\", y=\"Distance\", data=overall_data)\n",
    "ax = sns.scatterplot(x=\"Cluster\", y=\"Distance\", data=overall_data)\n",
    "#plt.savefig(\"Violin plot HLA distance by hla cluster.pdf\", dpi=300)"
   ]
  },
  {
   "cell_type": "code",
   "execution_count": null,
   "id": "db75716d",
   "metadata": {},
   "outputs": [],
   "source": [
    "plt.figure(figsize = (12,7))\n",
    "ax = sns.violinplot(x=\"Cluster\", y=\"Standard Deviation Mean\", data=overall_data)\n",
    "ax = sns.scatterplot(x=\"Cluster\", y=\"Standard Deviation Mean\", data=overall_data)\n",
    "#plt.savefig(\"Violin plot standard deviation mean by hla cluster.pdf\", dpi=300)"
   ]
  },
  {
   "cell_type": "code",
   "execution_count": null,
   "id": "7201728e",
   "metadata": {},
   "outputs": [],
   "source": [
    "plt.figure(figsize = (12,7))\n",
    "ax = sns.scatterplot(x=\"Training Data (BA)\", y=\"Standard Deviation Mean\", data=overall_data)\n",
    "#plt.savefig(\"Training data (BA) vs Standard deviation mean.pdf\", dpi=300)"
   ]
  },
  {
   "cell_type": "markdown",
   "id": "8b4fb202",
   "metadata": {},
   "source": [
    "## Network Graphs"
   ]
  },
  {
   "cell_type": "code",
   "execution_count": null,
   "id": "845e2f64",
   "metadata": {},
   "outputs": [],
   "source": [
    "import py4cytoscape as p4c"
   ]
  },
  {
   "cell_type": "code",
   "execution_count": null,
   "id": "06531178",
   "metadata": {},
   "outputs": [],
   "source": [
    "node_id = list(set(list(supp_data[\"HLA allele\"])+list(supp_data[\"Nearest Neighbor\"])))\n",
    "node_size = []\n",
    "node_color = []\n",
    "for i in node_id:\n",
    "    try: \n",
    "        node_size.append(supp_data[supp_data[\"HLA allele\"] == i][\"Training Data (BA)\"].iloc[0] + 1)\n",
    "    except: \n",
    "        node_size.append(1)\n",
    "    try:\n",
    "        if supp_data[supp_data[\"HLA allele\"] == i][\"Cluster\"].iloc[0] == \"n/a\":\n",
    "            node_color.append(\"white\")\n",
    "        else:\n",
    "            node_color.append(supp_data[supp_data[\"HLA allele\"] == i][\"Cluster\"].iloc[0])\n",
    "    except:\n",
    "        node_color.append(\"white\")\n",
    "nodes = pd.DataFrame(data = {'id' : node_id, 'size' : node_size, 'color': node_color})\n",
    "\n",
    "source = []\n",
    "target = []\n",
    "weight = []\n",
    "for n, i in supp_data.iterrows():\n",
    "    if i[\"HLA allele\"] != i[\"Nearest Neighbor\"]:\n",
    "        source.append(i[\"HLA allele\"])\n",
    "        target.append(i[\"Nearest Neighbor\"])\n",
    "        weight.append(i[\"Distance\"])\n",
    "        #if i[\"Nearest Neighbor\"] not in set(supp_data[\"HLA allele\"]):\n",
    "            #print(i[\"Nearest Neighbor\"])\n",
    "edges = pd.DataFrame(data = {'source' : source, 'target' : target, 'weight' : weight})\n",
    "p4c.create_network_from_data_frames(nodes, edges, title=\"HLA Alleles Network\")"
   ]
  },
  {
   "cell_type": "code",
   "execution_count": null,
   "id": "6862ab30",
   "metadata": {},
   "outputs": [],
   "source": [
    "nodes = pd.DataFrame(data={'id': [\"A\", \"B\", \"C\", \"D\"]})\n",
    "edges = pd.DataFrame(data={'source': [\"C\", \"B\", \"B\", \"B\"], 'target': [\"D\", \"A\", \"D\", \"C\"]})\n",
    "\n",
    "p4c.create_network_from_data_frames(nodes, edges, title=\"simple network\", collection=\"Biological Example\")"
   ]
  },
  {
   "cell_type": "code",
   "execution_count": null,
   "id": "fab1e4b0",
   "metadata": {},
   "outputs": [],
   "source": []
  }
 ],
 "metadata": {
  "kernelspec": {
   "display_name": "Python 3 (ipykernel)",
   "language": "python",
   "name": "python3"
  },
  "language_info": {
   "codemirror_mode": {
    "name": "ipython",
    "version": 3
   },
   "file_extension": ".py",
   "mimetype": "text/x-python",
   "name": "python",
   "nbconvert_exporter": "python",
   "pygments_lexer": "ipython3",
   "version": "3.9.12"
  }
 },
 "nbformat": 4,
 "nbformat_minor": 5
}
