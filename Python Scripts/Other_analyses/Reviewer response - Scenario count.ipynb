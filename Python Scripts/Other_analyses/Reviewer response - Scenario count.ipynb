{
 "cells": [
  {
   "cell_type": "code",
   "execution_count": null,
   "metadata": {},
   "outputs": [],
   "source": [
    "import numpy as np\n",
    "import pandas as pd\n",
    "import regex\n",
    "import random\n",
    "import seqlogo\n",
    "import pickle\n",
    "import matplotlib.pyplot as plt\n",
    "%matplotlib inline\n",
    "plt.ion()\n",
    "import logomaker as lm\n",
    "import os\n",
    "from logomaker import Glyph\n",
    "import matplotlib.style as style\n",
    "import matplotlib.cm as mplcm\n",
    "import matplotlib.colors as colors\n",
    "import upsetplot\n",
    "from collections import Counter\n",
    "import csv\n",
    "import seaborn as sns\n",
    "sns.set_theme()\n",
    "\n",
    "def save_obj(obj, name ):\n",
    "    with open('obj/'+ name + '.pkl', 'wb') as f:\n",
    "        pickle.dump(obj, f, pickle.HIGHEST_PROTOCOL)\n",
    "\n",
    "def load_obj(name ):\n",
    "    with open('obj/' + name + '.pkl', 'rb') as f:\n",
    "        return pickle.load(f)"
   ]
  },
  {
   "cell_type": "code",
   "execution_count": null,
   "metadata": {},
   "outputs": [],
   "source": [
    "filtered_epitopes_combined = load_obj('filtered_epitopes_combined_round_4')"
   ]
  },
  {
   "cell_type": "code",
   "execution_count": null,
   "metadata": {},
   "outputs": [],
   "source": [
    "hla_allele_list = []\n",
    "for n, i in filtered_epitopes_combined.iterrows():\n",
    "    hla_allele_list.append(i['HLA Allele'])\n",
    "hla_allele_set = set(hla_allele_list)"
   ]
  },
  {
   "cell_type": "code",
   "execution_count": null,
   "metadata": {},
   "outputs": [],
   "source": [
    "columns = ['MHCflurry MT Score', 'MHCnuggetsI MT Score', 'NetMHC MT Score', 'NetMHCcons MT Score',\n",
    "           'NetMHCpan MT Score', 'SMM MT Score', 'SMMPMBEC MT Score', 'PickPocket MT Score', 'HLA Allele']\n",
    "data = filtered_epitopes_combined[columns]"
   ]
  },
  {
   "cell_type": "code",
   "execution_count": null,
   "metadata": {},
   "outputs": [],
   "source": [
    "data_unique = data.drop_duplicates(subset=['HLA Allele'])"
   ]
  },
  {
   "cell_type": "code",
   "execution_count": null,
   "metadata": {},
   "outputs": [],
   "source": [
    "hla_allele_dict = {}\n",
    "for i in hla_allele_set:\n",
    "    hla_allele_dict[i] = (data_unique[data_unique['HLA Allele'] == i].isnull().sum(axis=1).to_list()[0])"
   ]
  },
  {
   "cell_type": "code",
   "execution_count": null,
   "metadata": {},
   "outputs": [],
   "source": [
    "Counter(data_unique.isnull().sum(axis=1).tolist())"
   ]
  },
  {
   "cell_type": "code",
   "execution_count": null,
   "metadata": {},
   "outputs": [],
   "source": [
    "hla_blue_list = ['HLA-B*08:01','HLA-B*14:02','HLA-B*08:09',]\n",
    "hla_green_list = ['HLA-C*05:01','HLA-A*30:01',\n",
    "'HLA-C*04:01',\n",
    "'HLA-C*08:02',\n",
    "'HLA-C*04:03','HLA-C*05:09',\n",
    "'HLA-C*08:15']"
   ]
  },
  {
   "cell_type": "code",
   "execution_count": null,
   "metadata": {},
   "outputs": [],
   "source": [
    "for i in hla_blue_list:\n",
    "    print(i, hla_allele_dict[i])\n",
    "\n",
    "print('Next')\n",
    "for i in hla_green_list:\n",
    "    print(i, hla_allele_dict[i])"
   ]
  },
  {
   "cell_type": "markdown",
   "metadata": {},
   "source": [
    "## Determine how many SNVs fall into each category of the 4 scenarios"
   ]
  },
  {
   "cell_type": "code",
   "execution_count": null,
   "metadata": {},
   "outputs": [],
   "source": [
    "tcga_1000_m1_filter_final_data = pd.read_csv('TCGA_1000_anchor_evaluation_3_type_data_results_population_m1_corrected.tsv', sep='\\t')"
   ]
  },
  {
   "cell_type": "code",
   "execution_count": null,
   "metadata": {},
   "outputs": [],
   "source": [
    "tcga_1000_m1_filter_final_data_uniq = tcga_1000_m1_filter_final_data.drop_duplicates(subset=['WT Sequence', 'MT Sequence', 'HLA Allele'])"
   ]
  },
  {
   "cell_type": "code",
   "execution_count": null,
   "metadata": {},
   "outputs": [],
   "source": [
    "category = []\n",
    "for n, i in tcga_1000_m1_filter_final_data_uniq.iterrows():\n",
    "    if (float(i['Median WT Score']) > 500) & (float(i['Median MT Score']) < 500) & i['Mutation at Anchor']:\n",
    "        category.append(\"Category 1\")\n",
    "    elif (float(i['Median WT Score']) < 500) & (float(i['Median MT Score']) < 500) & (not i['Mutation at Anchor']):\n",
    "        category.append(\"Category 2\")\n",
    "    elif (float(i['Median WT Score']) < 500) & (float(i['Median MT Score']) < 500) & (i['Mutation at Anchor']):\n",
    "        category.append(\"Category 3\")\n",
    "    elif (float(i['Median WT Score']) > 500) & (float(i['Median MT Score']) < 500) & (not i['Mutation at Anchor']):\n",
    "        category.append(\"Category 4\")"
   ]
  },
  {
   "cell_type": "code",
   "execution_count": null,
   "metadata": {},
   "outputs": [],
   "source": [
    "Counter(category)"
   ]
  },
  {
   "cell_type": "code",
   "execution_count": null,
   "metadata": {},
   "outputs": [],
   "source": [
    "len(tcga_1000_m1_filter_final_data_uniq)"
   ]
  },
  {
   "cell_type": "code",
   "execution_count": null,
   "metadata": {},
   "outputs": [],
   "source": [
    "25207 + 7595 + 3583 + 8080"
   ]
  },
  {
   "cell_type": "code",
   "execution_count": null,
   "metadata": {},
   "outputs": [],
   "source": [
    "x = ['Category 1', 'Category 2', 'Category 3', 'Category 4']\n",
    "y = [7595, 25207, 3583, 8080]\n",
    "plt.figure(figsize = (8,5))\n",
    "sns.barplot(x, y)\n",
    "plt.ylabel(\"Counts\")\n",
    "plt.title(\"Distribution of anchor categories for neoantigen candidates from 863 TCGA samples\")\n",
    "plt.savefig(\"Distribution of anchor categories for neoantigen candidates from 863 TCGA samples.png\", dpi=200)"
   ]
  },
  {
   "cell_type": "code",
   "execution_count": null,
   "metadata": {},
   "outputs": [],
   "source": [
    "x = [8, 7, 6, 5, 4, 3, 2, 1]\n",
    "y = [54, 2, 11, 8, 252, 0, 0, 1]\n",
    "plt.figure(figsize = (8,5))\n",
    "sns.barplot(x, y)\n",
    "plt.ylabel(\"Number of HLA alleles\")\n",
    "plt.xlabel(\"Number of supporting algorithms\")\n",
    "plt.title(\"Number of supporting algorithms for 328 HLA alleles analyzed\")\n",
    "plt.savefig(\"Number of supporting algorithms for 328 HLA alleles analyzed.png\", dpi=200)"
   ]
  },
  {
   "cell_type": "code",
   "execution_count": null,
   "metadata": {},
   "outputs": [],
   "source": []
  }
 ],
 "metadata": {
  "kernelspec": {
   "display_name": "Python 3 (ipykernel)",
   "language": "python",
   "name": "python3"
  },
  "language_info": {
   "codemirror_mode": {
    "name": "ipython",
    "version": 3
   },
   "file_extension": ".py",
   "mimetype": "text/x-python",
   "name": "python",
   "nbconvert_exporter": "python",
   "pygments_lexer": "ipython3",
   "version": "3.9.12"
  }
 },
 "nbformat": 4,
 "nbformat_minor": 4
}
