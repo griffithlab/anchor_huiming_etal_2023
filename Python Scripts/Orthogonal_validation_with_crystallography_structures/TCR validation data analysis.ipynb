{
 "cells": [
  {
   "cell_type": "code",
   "execution_count": null,
   "metadata": {},
   "outputs": [],
   "source": [
    "import pandas as pd\n",
    "import numpy as np\n",
    "import random\n",
    "import seaborn as sns\n",
    "import matplotlib.pyplot as plt\n",
    "import pickle\n",
    "import scipy.stats as ss\n",
    "plt.style.use('seaborn')"
   ]
  },
  {
   "cell_type": "code",
   "execution_count": null,
   "metadata": {},
   "outputs": [],
   "source": [
    "def save_obj(obj, name ):\n",
    "    with open('/Users/h.xia/Desktop/Griffith_Lab/R_shiny_visualization/anchor_analysis/obj/'+ name + '.pkl', 'wb') as f:\n",
    "        pickle.dump(obj, f, pickle.HIGHEST_PROTOCOL)\n",
    "\n",
    "def load_obj(name ):\n",
    "    with open('/Users/h.xia/Desktop/Griffith_Lab/R_shiny_visualization/anchor_analysis/obj/' + name + '.pkl', 'rb') as f:\n",
    "        return pickle.load(f)"
   ]
  },
  {
   "cell_type": "code",
   "execution_count": null,
   "metadata": {},
   "outputs": [],
   "source": [
    "correlation_data = pd.read_excel(open('/Users/h.xia/Desktop/Griffith_Lab/Anchor Paper/Supp Data/correlation_TCR.xlsx','rb'))"
   ]
  },
  {
   "cell_type": "code",
   "execution_count": null,
   "metadata": {},
   "outputs": [],
   "source": [
    "data_dict = {}\n",
    "for i,j in correlation_data.iterrows():\n",
    "    if j['HLA Allele'] in data_dict:\n",
    "        data_dict[j['HLA Allele']].append(i)\n",
    "    else:\n",
    "        data_dict[j['HLA Allele']] = [i]"
   ]
  },
  {
   "cell_type": "code",
   "execution_count": null,
   "metadata": {},
   "outputs": [],
   "source": [
    "## random selection\n",
    "random_choices = pd.DataFrame()\n",
    "for i in data_dict.keys():\n",
    "    if len(data_dict[i]) > 5:\n",
    "        choices = random.sample(data_dict[i], k=5)\n",
    "    else:\n",
    "        choices = data_dict[i]\n",
    "    for j in choices:\n",
    "        random_choices = random_choices.append(correlation_data.iloc[j])"
   ]
  },
  {
   "cell_type": "code",
   "execution_count": null,
   "metadata": {},
   "outputs": [],
   "source": [
    "#save_obj(random_choices, 'TCR-HLA-PEPTIDE_validation_random_choices')\n",
    "random_choices = load_obj('TCR-HLA-PEPTIDE_validation_random_choices')"
   ]
  },
  {
   "cell_type": "code",
   "execution_count": null,
   "metadata": {},
   "outputs": [],
   "source": [
    "print(ss.ttest_ind(random_choices['corr_HLA'], random_choices['corr_rand_HLA'], equal_var=False))\n",
    "print(ss.ttest_ind(random_choices['corr_TCR'], random_choices['corr_rand_HLA'], equal_var=False))"
   ]
  },
  {
   "cell_type": "code",
   "execution_count": null,
   "metadata": {},
   "outputs": [],
   "source": [
    "sns.distplot(random_choices['corr_HLA'], hist=False, rug=True, label=\"HLA Distance Correlation\");\n",
    "sns.distplot(random_choices['corr_rand_HLA'], hist=False, rug=True, label=\"Randomized Correlation\");\n",
    "sns.distplot(random_choices['corr_TCR'], hist=False, rug=True, label=\"TCR Distance Correlation\");\n",
    "plt.xlabel('Spearman Correlation')\n",
    "plt.ylabel('Density')\n",
    "plt.title('Distribution of Spearman Correlations between Anchor Prediction & HLA/TCR Distance Calculation')\n",
    "plt.savefig(\"Distribution of Spearman Correlations between Anchor Prediction & HLA\\TCR Distance Calculation.pdf\")"
   ]
  },
  {
   "cell_type": "code",
   "execution_count": null,
   "metadata": {},
   "outputs": [],
   "source": [
    "random_choices.to_csv('TCR-HLA-Peptide-validation_distribution_plots_random_choices.tsv', sep='\\t')"
   ]
  },
  {
   "cell_type": "code",
   "execution_count": null,
   "metadata": {},
   "outputs": [],
   "source": []
  }
 ],
 "metadata": {
  "kernelspec": {
   "display_name": "Python 3 (ipykernel)",
   "language": "python",
   "name": "python3"
  },
  "language_info": {
   "codemirror_mode": {
    "name": "ipython",
    "version": 3
   },
   "file_extension": ".py",
   "mimetype": "text/x-python",
   "name": "python",
   "nbconvert_exporter": "python",
   "pygments_lexer": "ipython3",
   "version": "3.9.12"
  }
 },
 "nbformat": 4,
 "nbformat_minor": 4
}
